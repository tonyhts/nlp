{
 "cells": [
  {
   "cell_type": "code",
   "execution_count": null,
   "id": "e779a0df",
   "metadata": {},
   "outputs": [],
   "source": [
    "import pandas as pd\n",
    "from ..src.data_loader import load_csv, load_pickle, load_xls, load_postgres\n",
    "\n",
    "data_csv = load_csv('data.csv')\n",
    "data_pickle = load_pickle('data.pickle')\n",
    "data_xls = load_xls('data.xls')\n",
    "data_postgres = load_postgres('postgres_config.json')\n"
   ]
  },
  {
   "cell_type": "code",
   "execution_count": null,
   "id": "d9c2c930",
   "metadata": {},
   "outputs": [],
   "source": [
    "import re\n",
    "import nltk\n",
    "from nltk.corpus import stopwords\n",
    "from nltk.tokenize import word_tokenize\n",
    "from nltk.stem import SnowballStemmer\n",
    "from autocorrect import Speller\n",
    "from ..src.preprocessing import clean_text, correct_text\n",
    "\n",
    "nltk.download('stopwords')\n",
    "nltk.download('punkt')\n",
    "\n",
    "data_csv['clean_description'] = data_csv['description'].apply(clean_text)\n",
    "data_csv['clean_description'] = data_csv['clean_description'].apply(correct_text)\n"
   ]
  },
  {
   "cell_type": "code",
   "execution_count": null,
   "id": "ab506472",
   "metadata": {},
   "outputs": [],
   "source": [
    "from ..src.train_test import train_test_split\n",
    "\n",
    "train_data, test_data = train_test_split(data_csv, test_size=0.2, random_state=42)\n"
   ]
  },
  {
   "cell_type": "code",
   "execution_count": null,
   "id": "cf072911",
   "metadata": {},
   "outputs": [],
   "source": [
    "from ..src.classifier import train_classifier\n",
    "\n",
    "model = train_classifier(train_data)\n"
   ]
  },
  {
   "cell_type": "code",
   "execution_count": null,
   "id": "caf634aa",
   "metadata": {},
   "outputs": [],
   "source": [
    "from ..src.classifier import evaluate_classifier\n",
    "\n",
    "accuracy = evaluate_classifier(model, test_data)\n",
    "print('Accuracy:', accuracy)\n"
   ]
  },
  {
   "cell_type": "code",
   "execution_count": null,
   "id": "bcb8da05",
   "metadata": {},
   "outputs": [],
   "source": [
    "from ..src.detect_false_positive import detect_false_positives\n",
    "\n",
    "false_positives = detect_false_positives(model, test_data)\n",
    "print('False Positives:', false_positives)\n"
   ]
  }
 ],
 "metadata": {
  "kernelspec": {
   "display_name": "Python 3",
   "language": "python",
   "name": "python3"
  },
  "language_info": {
   "codemirror_mode": {
    "name": "ipython",
    "version": 3
   },
   "file_extension": ".py",
   "mimetype": "text/x-python",
   "name": "python",
   "nbconvert_exporter": "python",
   "pygments_lexer": "ipython3",
   "version": "3.7.11"
  }
 },
 "nbformat": 4,
 "nbformat_minor": 5
}
